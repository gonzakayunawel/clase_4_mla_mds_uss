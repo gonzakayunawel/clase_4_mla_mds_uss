{
  "nbformat": 4,
  "nbformat_minor": 0,
  "metadata": {
    "colab": {
      "provenance": []
    },
    "kernelspec": {
      "name": "python3",
      "display_name": "Python 3"
    },
    "language_info": {
      "name": "python"
    }
  },
  "cells": [
    {
      "cell_type": "markdown",
      "source": [
        "<img src=\"https://www.uss.cl/wp-content/themes/uss/img/logo.svg\" width=\"200\" height=\"200\" style=\"float:left; padding:16px\"/>"
      ],
      "metadata": {
        "id": "0HITcLgmNSr8"
      }
    },
    {
      "cell_type": "markdown",
      "source": [
        "# **Actividad II**: Regresion Pólimonial.\n",
        "Nicolás Abuhadba - agosto 2024.\n",
        "- Unidad 4: Aprendizaje Supervisado.\n",
        "- Ramo: Machine Learning Avanzado.\n",
        "----------"
      ],
      "metadata": {
        "id": "Z83v-0YHNWeP"
      }
    },
    {
      "cell_type": "markdown",
      "metadata": {
        "id": "2vWNA5Jk09QP"
      },
      "source": [
        "#Regresión polinomial\n",
        "\n",
        "En este notebook, probaremos la regresión polinomial usando el mismo dataset sobre diabetes.\n",
        "\n",
        "Copiamos los primeros pasos del notebook anterior."
      ]
    },
    {
      "cell_type": "code",
      "metadata": {
        "id": "wb8jBw8txTD4"
      },
      "source": [
        "# Importamos algunas librerías generales\n",
        "from sklearn import datasets\n",
        "import matplotlib.pyplot as plt\n",
        "import numpy as np\n",
        "import pandas as pd\n",
        "\n",
        "from sklearn import linear_model\n",
        "from sklearn.metrics import mean_squared_error, r2_score, mean_absolute_error"
      ],
      "execution_count": 1,
      "outputs": []
    },
    {
      "cell_type": "code",
      "metadata": {
        "id": "cA63vIbu0whj"
      },
      "source": [
        "diabetes = datasets.load_diabetes()\n",
        "X, y = diabetes.data, diabetes.target"
      ],
      "execution_count": 2,
      "outputs": []
    },
    {
      "cell_type": "code",
      "metadata": {
        "id": "7xq4DtCq0zvw"
      },
      "source": [
        "df_x = pd.DataFrame(X)\n",
        "df_y = pd.DataFrame(y)"
      ],
      "execution_count": 3,
      "outputs": []
    },
    {
      "cell_type": "code",
      "metadata": {
        "colab": {
          "base_uri": "https://localhost:8080/",
          "height": 423
        },
        "id": "dmMyppvZ-n4k",
        "outputId": "97e43b9d-005f-447f-9a71-324e12d8f35d"
      },
      "source": [
        "# agregamos los nombres de variables para una mejor visualización de los datos. Esto no es estrictamente necesario.\n",
        "df_x.columns = diabetes.feature_names\n",
        "df_x"
      ],
      "execution_count": 4,
      "outputs": [
        {
          "output_type": "execute_result",
          "data": {
            "text/plain": [
              "          age       sex       bmi        bp        s1        s2        s3  \\\n",
              "0    0.038076  0.050680  0.061696  0.021872 -0.044223 -0.034821 -0.043401   \n",
              "1   -0.001882 -0.044642 -0.051474 -0.026328 -0.008449 -0.019163  0.074412   \n",
              "2    0.085299  0.050680  0.044451 -0.005670 -0.045599 -0.034194 -0.032356   \n",
              "3   -0.089063 -0.044642 -0.011595 -0.036656  0.012191  0.024991 -0.036038   \n",
              "4    0.005383 -0.044642 -0.036385  0.021872  0.003935  0.015596  0.008142   \n",
              "..        ...       ...       ...       ...       ...       ...       ...   \n",
              "437  0.041708  0.050680  0.019662  0.059744 -0.005697 -0.002566 -0.028674   \n",
              "438 -0.005515  0.050680 -0.015906 -0.067642  0.049341  0.079165 -0.028674   \n",
              "439  0.041708  0.050680 -0.015906  0.017293 -0.037344 -0.013840 -0.024993   \n",
              "440 -0.045472 -0.044642  0.039062  0.001215  0.016318  0.015283 -0.028674   \n",
              "441 -0.045472 -0.044642 -0.073030 -0.081413  0.083740  0.027809  0.173816   \n",
              "\n",
              "           s4        s5        s6  \n",
              "0   -0.002592  0.019907 -0.017646  \n",
              "1   -0.039493 -0.068332 -0.092204  \n",
              "2   -0.002592  0.002861 -0.025930  \n",
              "3    0.034309  0.022688 -0.009362  \n",
              "4   -0.002592 -0.031988 -0.046641  \n",
              "..        ...       ...       ...  \n",
              "437 -0.002592  0.031193  0.007207  \n",
              "438  0.034309 -0.018114  0.044485  \n",
              "439 -0.011080 -0.046883  0.015491  \n",
              "440  0.026560  0.044529 -0.025930  \n",
              "441 -0.039493 -0.004222  0.003064  \n",
              "\n",
              "[442 rows x 10 columns]"
            ],
            "text/html": [
              "\n",
              "  <div id=\"df-2d57f40f-f0c5-49eb-a3d0-76a9e3a72e64\" class=\"colab-df-container\">\n",
              "    <div>\n",
              "<style scoped>\n",
              "    .dataframe tbody tr th:only-of-type {\n",
              "        vertical-align: middle;\n",
              "    }\n",
              "\n",
              "    .dataframe tbody tr th {\n",
              "        vertical-align: top;\n",
              "    }\n",
              "\n",
              "    .dataframe thead th {\n",
              "        text-align: right;\n",
              "    }\n",
              "</style>\n",
              "<table border=\"1\" class=\"dataframe\">\n",
              "  <thead>\n",
              "    <tr style=\"text-align: right;\">\n",
              "      <th></th>\n",
              "      <th>age</th>\n",
              "      <th>sex</th>\n",
              "      <th>bmi</th>\n",
              "      <th>bp</th>\n",
              "      <th>s1</th>\n",
              "      <th>s2</th>\n",
              "      <th>s3</th>\n",
              "      <th>s4</th>\n",
              "      <th>s5</th>\n",
              "      <th>s6</th>\n",
              "    </tr>\n",
              "  </thead>\n",
              "  <tbody>\n",
              "    <tr>\n",
              "      <th>0</th>\n",
              "      <td>0.038076</td>\n",
              "      <td>0.050680</td>\n",
              "      <td>0.061696</td>\n",
              "      <td>0.021872</td>\n",
              "      <td>-0.044223</td>\n",
              "      <td>-0.034821</td>\n",
              "      <td>-0.043401</td>\n",
              "      <td>-0.002592</td>\n",
              "      <td>0.019907</td>\n",
              "      <td>-0.017646</td>\n",
              "    </tr>\n",
              "    <tr>\n",
              "      <th>1</th>\n",
              "      <td>-0.001882</td>\n",
              "      <td>-0.044642</td>\n",
              "      <td>-0.051474</td>\n",
              "      <td>-0.026328</td>\n",
              "      <td>-0.008449</td>\n",
              "      <td>-0.019163</td>\n",
              "      <td>0.074412</td>\n",
              "      <td>-0.039493</td>\n",
              "      <td>-0.068332</td>\n",
              "      <td>-0.092204</td>\n",
              "    </tr>\n",
              "    <tr>\n",
              "      <th>2</th>\n",
              "      <td>0.085299</td>\n",
              "      <td>0.050680</td>\n",
              "      <td>0.044451</td>\n",
              "      <td>-0.005670</td>\n",
              "      <td>-0.045599</td>\n",
              "      <td>-0.034194</td>\n",
              "      <td>-0.032356</td>\n",
              "      <td>-0.002592</td>\n",
              "      <td>0.002861</td>\n",
              "      <td>-0.025930</td>\n",
              "    </tr>\n",
              "    <tr>\n",
              "      <th>3</th>\n",
              "      <td>-0.089063</td>\n",
              "      <td>-0.044642</td>\n",
              "      <td>-0.011595</td>\n",
              "      <td>-0.036656</td>\n",
              "      <td>0.012191</td>\n",
              "      <td>0.024991</td>\n",
              "      <td>-0.036038</td>\n",
              "      <td>0.034309</td>\n",
              "      <td>0.022688</td>\n",
              "      <td>-0.009362</td>\n",
              "    </tr>\n",
              "    <tr>\n",
              "      <th>4</th>\n",
              "      <td>0.005383</td>\n",
              "      <td>-0.044642</td>\n",
              "      <td>-0.036385</td>\n",
              "      <td>0.021872</td>\n",
              "      <td>0.003935</td>\n",
              "      <td>0.015596</td>\n",
              "      <td>0.008142</td>\n",
              "      <td>-0.002592</td>\n",
              "      <td>-0.031988</td>\n",
              "      <td>-0.046641</td>\n",
              "    </tr>\n",
              "    <tr>\n",
              "      <th>...</th>\n",
              "      <td>...</td>\n",
              "      <td>...</td>\n",
              "      <td>...</td>\n",
              "      <td>...</td>\n",
              "      <td>...</td>\n",
              "      <td>...</td>\n",
              "      <td>...</td>\n",
              "      <td>...</td>\n",
              "      <td>...</td>\n",
              "      <td>...</td>\n",
              "    </tr>\n",
              "    <tr>\n",
              "      <th>437</th>\n",
              "      <td>0.041708</td>\n",
              "      <td>0.050680</td>\n",
              "      <td>0.019662</td>\n",
              "      <td>0.059744</td>\n",
              "      <td>-0.005697</td>\n",
              "      <td>-0.002566</td>\n",
              "      <td>-0.028674</td>\n",
              "      <td>-0.002592</td>\n",
              "      <td>0.031193</td>\n",
              "      <td>0.007207</td>\n",
              "    </tr>\n",
              "    <tr>\n",
              "      <th>438</th>\n",
              "      <td>-0.005515</td>\n",
              "      <td>0.050680</td>\n",
              "      <td>-0.015906</td>\n",
              "      <td>-0.067642</td>\n",
              "      <td>0.049341</td>\n",
              "      <td>0.079165</td>\n",
              "      <td>-0.028674</td>\n",
              "      <td>0.034309</td>\n",
              "      <td>-0.018114</td>\n",
              "      <td>0.044485</td>\n",
              "    </tr>\n",
              "    <tr>\n",
              "      <th>439</th>\n",
              "      <td>0.041708</td>\n",
              "      <td>0.050680</td>\n",
              "      <td>-0.015906</td>\n",
              "      <td>0.017293</td>\n",
              "      <td>-0.037344</td>\n",
              "      <td>-0.013840</td>\n",
              "      <td>-0.024993</td>\n",
              "      <td>-0.011080</td>\n",
              "      <td>-0.046883</td>\n",
              "      <td>0.015491</td>\n",
              "    </tr>\n",
              "    <tr>\n",
              "      <th>440</th>\n",
              "      <td>-0.045472</td>\n",
              "      <td>-0.044642</td>\n",
              "      <td>0.039062</td>\n",
              "      <td>0.001215</td>\n",
              "      <td>0.016318</td>\n",
              "      <td>0.015283</td>\n",
              "      <td>-0.028674</td>\n",
              "      <td>0.026560</td>\n",
              "      <td>0.044529</td>\n",
              "      <td>-0.025930</td>\n",
              "    </tr>\n",
              "    <tr>\n",
              "      <th>441</th>\n",
              "      <td>-0.045472</td>\n",
              "      <td>-0.044642</td>\n",
              "      <td>-0.073030</td>\n",
              "      <td>-0.081413</td>\n",
              "      <td>0.083740</td>\n",
              "      <td>0.027809</td>\n",
              "      <td>0.173816</td>\n",
              "      <td>-0.039493</td>\n",
              "      <td>-0.004222</td>\n",
              "      <td>0.003064</td>\n",
              "    </tr>\n",
              "  </tbody>\n",
              "</table>\n",
              "<p>442 rows × 10 columns</p>\n",
              "</div>\n",
              "    <div class=\"colab-df-buttons\">\n",
              "\n",
              "  <div class=\"colab-df-container\">\n",
              "    <button class=\"colab-df-convert\" onclick=\"convertToInteractive('df-2d57f40f-f0c5-49eb-a3d0-76a9e3a72e64')\"\n",
              "            title=\"Convert this dataframe to an interactive table.\"\n",
              "            style=\"display:none;\">\n",
              "\n",
              "  <svg xmlns=\"http://www.w3.org/2000/svg\" height=\"24px\" viewBox=\"0 -960 960 960\">\n",
              "    <path d=\"M120-120v-720h720v720H120Zm60-500h600v-160H180v160Zm220 220h160v-160H400v160Zm0 220h160v-160H400v160ZM180-400h160v-160H180v160Zm440 0h160v-160H620v160ZM180-180h160v-160H180v160Zm440 0h160v-160H620v160Z\"/>\n",
              "  </svg>\n",
              "    </button>\n",
              "\n",
              "  <style>\n",
              "    .colab-df-container {\n",
              "      display:flex;\n",
              "      gap: 12px;\n",
              "    }\n",
              "\n",
              "    .colab-df-convert {\n",
              "      background-color: #E8F0FE;\n",
              "      border: none;\n",
              "      border-radius: 50%;\n",
              "      cursor: pointer;\n",
              "      display: none;\n",
              "      fill: #1967D2;\n",
              "      height: 32px;\n",
              "      padding: 0 0 0 0;\n",
              "      width: 32px;\n",
              "    }\n",
              "\n",
              "    .colab-df-convert:hover {\n",
              "      background-color: #E2EBFA;\n",
              "      box-shadow: 0px 1px 2px rgba(60, 64, 67, 0.3), 0px 1px 3px 1px rgba(60, 64, 67, 0.15);\n",
              "      fill: #174EA6;\n",
              "    }\n",
              "\n",
              "    .colab-df-buttons div {\n",
              "      margin-bottom: 4px;\n",
              "    }\n",
              "\n",
              "    [theme=dark] .colab-df-convert {\n",
              "      background-color: #3B4455;\n",
              "      fill: #D2E3FC;\n",
              "    }\n",
              "\n",
              "    [theme=dark] .colab-df-convert:hover {\n",
              "      background-color: #434B5C;\n",
              "      box-shadow: 0px 1px 3px 1px rgba(0, 0, 0, 0.15);\n",
              "      filter: drop-shadow(0px 1px 2px rgba(0, 0, 0, 0.3));\n",
              "      fill: #FFFFFF;\n",
              "    }\n",
              "  </style>\n",
              "\n",
              "    <script>\n",
              "      const buttonEl =\n",
              "        document.querySelector('#df-2d57f40f-f0c5-49eb-a3d0-76a9e3a72e64 button.colab-df-convert');\n",
              "      buttonEl.style.display =\n",
              "        google.colab.kernel.accessAllowed ? 'block' : 'none';\n",
              "\n",
              "      async function convertToInteractive(key) {\n",
              "        const element = document.querySelector('#df-2d57f40f-f0c5-49eb-a3d0-76a9e3a72e64');\n",
              "        const dataTable =\n",
              "          await google.colab.kernel.invokeFunction('convertToInteractive',\n",
              "                                                    [key], {});\n",
              "        if (!dataTable) return;\n",
              "\n",
              "        const docLinkHtml = 'Like what you see? Visit the ' +\n",
              "          '<a target=\"_blank\" href=https://colab.research.google.com/notebooks/data_table.ipynb>data table notebook</a>'\n",
              "          + ' to learn more about interactive tables.';\n",
              "        element.innerHTML = '';\n",
              "        dataTable['output_type'] = 'display_data';\n",
              "        await google.colab.output.renderOutput(dataTable, element);\n",
              "        const docLink = document.createElement('div');\n",
              "        docLink.innerHTML = docLinkHtml;\n",
              "        element.appendChild(docLink);\n",
              "      }\n",
              "    </script>\n",
              "  </div>\n",
              "\n",
              "\n",
              "<div id=\"df-add17d3e-7331-4490-82bf-fd26fcbaa280\">\n",
              "  <button class=\"colab-df-quickchart\" onclick=\"quickchart('df-add17d3e-7331-4490-82bf-fd26fcbaa280')\"\n",
              "            title=\"Suggest charts\"\n",
              "            style=\"display:none;\">\n",
              "\n",
              "<svg xmlns=\"http://www.w3.org/2000/svg\" height=\"24px\"viewBox=\"0 0 24 24\"\n",
              "     width=\"24px\">\n",
              "    <g>\n",
              "        <path d=\"M19 3H5c-1.1 0-2 .9-2 2v14c0 1.1.9 2 2 2h14c1.1 0 2-.9 2-2V5c0-1.1-.9-2-2-2zM9 17H7v-7h2v7zm4 0h-2V7h2v10zm4 0h-2v-4h2v4z\"/>\n",
              "    </g>\n",
              "</svg>\n",
              "  </button>\n",
              "\n",
              "<style>\n",
              "  .colab-df-quickchart {\n",
              "      --bg-color: #E8F0FE;\n",
              "      --fill-color: #1967D2;\n",
              "      --hover-bg-color: #E2EBFA;\n",
              "      --hover-fill-color: #174EA6;\n",
              "      --disabled-fill-color: #AAA;\n",
              "      --disabled-bg-color: #DDD;\n",
              "  }\n",
              "\n",
              "  [theme=dark] .colab-df-quickchart {\n",
              "      --bg-color: #3B4455;\n",
              "      --fill-color: #D2E3FC;\n",
              "      --hover-bg-color: #434B5C;\n",
              "      --hover-fill-color: #FFFFFF;\n",
              "      --disabled-bg-color: #3B4455;\n",
              "      --disabled-fill-color: #666;\n",
              "  }\n",
              "\n",
              "  .colab-df-quickchart {\n",
              "    background-color: var(--bg-color);\n",
              "    border: none;\n",
              "    border-radius: 50%;\n",
              "    cursor: pointer;\n",
              "    display: none;\n",
              "    fill: var(--fill-color);\n",
              "    height: 32px;\n",
              "    padding: 0;\n",
              "    width: 32px;\n",
              "  }\n",
              "\n",
              "  .colab-df-quickchart:hover {\n",
              "    background-color: var(--hover-bg-color);\n",
              "    box-shadow: 0 1px 2px rgba(60, 64, 67, 0.3), 0 1px 3px 1px rgba(60, 64, 67, 0.15);\n",
              "    fill: var(--button-hover-fill-color);\n",
              "  }\n",
              "\n",
              "  .colab-df-quickchart-complete:disabled,\n",
              "  .colab-df-quickchart-complete:disabled:hover {\n",
              "    background-color: var(--disabled-bg-color);\n",
              "    fill: var(--disabled-fill-color);\n",
              "    box-shadow: none;\n",
              "  }\n",
              "\n",
              "  .colab-df-spinner {\n",
              "    border: 2px solid var(--fill-color);\n",
              "    border-color: transparent;\n",
              "    border-bottom-color: var(--fill-color);\n",
              "    animation:\n",
              "      spin 1s steps(1) infinite;\n",
              "  }\n",
              "\n",
              "  @keyframes spin {\n",
              "    0% {\n",
              "      border-color: transparent;\n",
              "      border-bottom-color: var(--fill-color);\n",
              "      border-left-color: var(--fill-color);\n",
              "    }\n",
              "    20% {\n",
              "      border-color: transparent;\n",
              "      border-left-color: var(--fill-color);\n",
              "      border-top-color: var(--fill-color);\n",
              "    }\n",
              "    30% {\n",
              "      border-color: transparent;\n",
              "      border-left-color: var(--fill-color);\n",
              "      border-top-color: var(--fill-color);\n",
              "      border-right-color: var(--fill-color);\n",
              "    }\n",
              "    40% {\n",
              "      border-color: transparent;\n",
              "      border-right-color: var(--fill-color);\n",
              "      border-top-color: var(--fill-color);\n",
              "    }\n",
              "    60% {\n",
              "      border-color: transparent;\n",
              "      border-right-color: var(--fill-color);\n",
              "    }\n",
              "    80% {\n",
              "      border-color: transparent;\n",
              "      border-right-color: var(--fill-color);\n",
              "      border-bottom-color: var(--fill-color);\n",
              "    }\n",
              "    90% {\n",
              "      border-color: transparent;\n",
              "      border-bottom-color: var(--fill-color);\n",
              "    }\n",
              "  }\n",
              "</style>\n",
              "\n",
              "  <script>\n",
              "    async function quickchart(key) {\n",
              "      const quickchartButtonEl =\n",
              "        document.querySelector('#' + key + ' button');\n",
              "      quickchartButtonEl.disabled = true;  // To prevent multiple clicks.\n",
              "      quickchartButtonEl.classList.add('colab-df-spinner');\n",
              "      try {\n",
              "        const charts = await google.colab.kernel.invokeFunction(\n",
              "            'suggestCharts', [key], {});\n",
              "      } catch (error) {\n",
              "        console.error('Error during call to suggestCharts:', error);\n",
              "      }\n",
              "      quickchartButtonEl.classList.remove('colab-df-spinner');\n",
              "      quickchartButtonEl.classList.add('colab-df-quickchart-complete');\n",
              "    }\n",
              "    (() => {\n",
              "      let quickchartButtonEl =\n",
              "        document.querySelector('#df-add17d3e-7331-4490-82bf-fd26fcbaa280 button');\n",
              "      quickchartButtonEl.style.display =\n",
              "        google.colab.kernel.accessAllowed ? 'block' : 'none';\n",
              "    })();\n",
              "  </script>\n",
              "</div>\n",
              "\n",
              "  <div id=\"id_47206ca3-8879-418a-84ac-ef5443bbcb2c\">\n",
              "    <style>\n",
              "      .colab-df-generate {\n",
              "        background-color: #E8F0FE;\n",
              "        border: none;\n",
              "        border-radius: 50%;\n",
              "        cursor: pointer;\n",
              "        display: none;\n",
              "        fill: #1967D2;\n",
              "        height: 32px;\n",
              "        padding: 0 0 0 0;\n",
              "        width: 32px;\n",
              "      }\n",
              "\n",
              "      .colab-df-generate:hover {\n",
              "        background-color: #E2EBFA;\n",
              "        box-shadow: 0px 1px 2px rgba(60, 64, 67, 0.3), 0px 1px 3px 1px rgba(60, 64, 67, 0.15);\n",
              "        fill: #174EA6;\n",
              "      }\n",
              "\n",
              "      [theme=dark] .colab-df-generate {\n",
              "        background-color: #3B4455;\n",
              "        fill: #D2E3FC;\n",
              "      }\n",
              "\n",
              "      [theme=dark] .colab-df-generate:hover {\n",
              "        background-color: #434B5C;\n",
              "        box-shadow: 0px 1px 3px 1px rgba(0, 0, 0, 0.15);\n",
              "        filter: drop-shadow(0px 1px 2px rgba(0, 0, 0, 0.3));\n",
              "        fill: #FFFFFF;\n",
              "      }\n",
              "    </style>\n",
              "    <button class=\"colab-df-generate\" onclick=\"generateWithVariable('df_x')\"\n",
              "            title=\"Generate code using this dataframe.\"\n",
              "            style=\"display:none;\">\n",
              "\n",
              "  <svg xmlns=\"http://www.w3.org/2000/svg\" height=\"24px\"viewBox=\"0 0 24 24\"\n",
              "       width=\"24px\">\n",
              "    <path d=\"M7,19H8.4L18.45,9,17,7.55,7,17.6ZM5,21V16.75L18.45,3.32a2,2,0,0,1,2.83,0l1.4,1.43a1.91,1.91,0,0,1,.58,1.4,1.91,1.91,0,0,1-.58,1.4L9.25,21ZM18.45,9,17,7.55Zm-12,3A5.31,5.31,0,0,0,4.9,8.1,5.31,5.31,0,0,0,1,6.5,5.31,5.31,0,0,0,4.9,4.9,5.31,5.31,0,0,0,6.5,1,5.31,5.31,0,0,0,8.1,4.9,5.31,5.31,0,0,0,12,6.5,5.46,5.46,0,0,0,6.5,12Z\"/>\n",
              "  </svg>\n",
              "    </button>\n",
              "    <script>\n",
              "      (() => {\n",
              "      const buttonEl =\n",
              "        document.querySelector('#id_47206ca3-8879-418a-84ac-ef5443bbcb2c button.colab-df-generate');\n",
              "      buttonEl.style.display =\n",
              "        google.colab.kernel.accessAllowed ? 'block' : 'none';\n",
              "\n",
              "      buttonEl.onclick = () => {\n",
              "        google.colab.notebook.generateWithVariable('df_x');\n",
              "      }\n",
              "      })();\n",
              "    </script>\n",
              "  </div>\n",
              "\n",
              "    </div>\n",
              "  </div>\n"
            ],
            "application/vnd.google.colaboratory.intrinsic+json": {
              "type": "dataframe",
              "variable_name": "df_x",
              "summary": "{\n  \"name\": \"df_x\",\n  \"rows\": 442,\n  \"fields\": [\n    {\n      \"column\": \"age\",\n      \"properties\": {\n        \"dtype\": \"number\",\n        \"std\": 0.047619047619047644,\n        \"min\": -0.1072256316073538,\n        \"max\": 0.11072667545381144,\n        \"num_unique_values\": 58,\n        \"samples\": [\n          0.038075906433423026,\n          -0.09269547780327612,\n          0.01991321417832592\n        ],\n        \"semantic_type\": \"\",\n        \"description\": \"\"\n      }\n    },\n    {\n      \"column\": \"sex\",\n      \"properties\": {\n        \"dtype\": \"number\",\n        \"std\": 0.047619047619047665,\n        \"min\": -0.044641636506989144,\n        \"max\": 0.05068011873981862,\n        \"num_unique_values\": 2,\n        \"samples\": [\n          -0.044641636506989144,\n          0.05068011873981862\n        ],\n        \"semantic_type\": \"\",\n        \"description\": \"\"\n      }\n    },\n    {\n      \"column\": \"bmi\",\n      \"properties\": {\n        \"dtype\": \"number\",\n        \"std\": 0.047619047619047616,\n        \"min\": -0.09027529589850945,\n        \"max\": 0.17055522598064407,\n        \"num_unique_values\": 163,\n        \"samples\": [\n          0.008883414898524095,\n          -0.05470749746044306\n        ],\n        \"semantic_type\": \"\",\n        \"description\": \"\"\n      }\n    },\n    {\n      \"column\": \"bp\",\n      \"properties\": {\n        \"dtype\": \"number\",\n        \"std\": 0.047619047619047596,\n        \"min\": -0.11239880254408448,\n        \"max\": 0.13204361674121307,\n        \"num_unique_values\": 100,\n        \"samples\": [\n          0.03333707926361473,\n          0.02531523648988596\n        ],\n        \"semantic_type\": \"\",\n        \"description\": \"\"\n      }\n    },\n    {\n      \"column\": \"s1\",\n      \"properties\": {\n        \"dtype\": \"number\",\n        \"std\": 0.04761904761904759,\n        \"min\": -0.12678066991651324,\n        \"max\": 0.15391371315651542,\n        \"num_unique_values\": 141,\n        \"samples\": [\n          0.041085578784023497,\n          0.08374011738825825\n        ],\n        \"semantic_type\": \"\",\n        \"description\": \"\"\n      }\n    },\n    {\n      \"column\": \"s2\",\n      \"properties\": {\n        \"dtype\": \"number\",\n        \"std\": 0.047619047619047644,\n        \"min\": -0.11561306597939897,\n        \"max\": 0.19878798965729408,\n        \"num_unique_values\": 302,\n        \"samples\": [\n          0.07415490186505921,\n          0.07008397186179521\n        ],\n        \"semantic_type\": \"\",\n        \"description\": \"\"\n      }\n    },\n    {\n      \"column\": \"s3\",\n      \"properties\": {\n        \"dtype\": \"number\",\n        \"std\": 0.047619047619047596,\n        \"min\": -0.10230705051741597,\n        \"max\": 0.18117906039727852,\n        \"num_unique_values\": 63,\n        \"samples\": [\n          0.09281975309919192,\n          0.15908923357275687\n        ],\n        \"semantic_type\": \"\",\n        \"description\": \"\"\n      }\n    },\n    {\n      \"column\": \"s4\",\n      \"properties\": {\n        \"dtype\": \"number\",\n        \"std\": 0.047619047619047616,\n        \"min\": -0.0763945037500033,\n        \"max\": 0.18523444326019867,\n        \"num_unique_values\": 66,\n        \"samples\": [\n          0.08670845052151895,\n          -0.024732934523729287\n        ],\n        \"semantic_type\": \"\",\n        \"description\": \"\"\n      }\n    },\n    {\n      \"column\": \"s5\",\n      \"properties\": {\n        \"dtype\": \"number\",\n        \"std\": 0.047619047619047616,\n        \"min\": -0.12609712083330468,\n        \"max\": 0.13359728192191356,\n        \"num_unique_values\": 184,\n        \"samples\": [\n          -0.07213275338232743,\n          -0.021395309255276825\n        ],\n        \"semantic_type\": \"\",\n        \"description\": \"\"\n      }\n    },\n    {\n      \"column\": \"s6\",\n      \"properties\": {\n        \"dtype\": \"number\",\n        \"std\": 0.047619047619047644,\n        \"min\": -0.13776722569000302,\n        \"max\": 0.13561183068907107,\n        \"num_unique_values\": 56,\n        \"samples\": [\n          -0.01764612515980379,\n          -0.09634615654165846\n        ],\n        \"semantic_type\": \"\",\n        \"description\": \"\"\n      }\n    }\n  ]\n}"
            }
          },
          "metadata": {},
          "execution_count": 4
        }
      ]
    },
    {
      "cell_type": "code",
      "metadata": {
        "colab": {
          "base_uri": "https://localhost:8080/",
          "height": 476
        },
        "id": "ijwGUUBi05pf",
        "outputId": "27671ad1-f80d-4c8f-df39-cad5714b66c3"
      },
      "source": [
        "# Vemos la relación de cada variable con la variable Y\n",
        "filas = 2\n",
        "col = 5\n",
        "\n",
        "nombres_col = diabetes.feature_names\n",
        "\n",
        "# N es la cantidad de datos con los que trabajaremos. Se usa más adelante, atención!!\n",
        "N = 50\n",
        "fig, axs = plt.subplots(filas, col,figsize=(25,10))\n",
        "\n",
        "n = 0\n",
        "for i in range(0,2):\n",
        "    for j in range(0,5):\n",
        "        axs[i,j].set_title(nombres_col[n])\n",
        "        axs[i,j].scatter(df_x[nombres_col[n]][:N],df_y[:N])\n",
        "        n = n+1\n",
        "\n",
        "fig.tight_layout()"
      ],
      "execution_count": 5,
      "outputs": [
        {
          "output_type": "display_data",
          "data": {
            "text/plain": [
              "<Figure size 2500x1000 with 10 Axes>"
            ],
            "image/png": "[encoded data removed]"
          },
          "metadata": {}
        }
      ]
    },
    {
      "cell_type": "markdown",
      "metadata": {
        "id": "oNbFxzGp1hLX"
      },
      "source": [
        "##Ahora hacemos una regresión polinomial\n",
        "\n",
        "Recomendamos que revisar las funciones: `PolynomialFeatures`, `np.polyval` y `np.flip`. Pueden servir para entender mejor que hace el código a continuación."
      ]
    },
    {
      "cell_type": "code",
      "metadata": {
        "id": "ddyBZvLI1h3m"
      },
      "source": [
        "from sklearn.preprocessing import PolynomialFeatures"
      ],
      "execution_count": 6,
      "outputs": []
    },
    {
      "cell_type": "code",
      "metadata": {
        "id": "C2ucUcDz1o7j"
      },
      "source": [
        "# Ojo con include_bias: por default es True y genera una columna con todos 1 (= x^0)\n",
        "# Si dejamos esto en True, es conveniente pedirle luego al modelo lineal que no ajuste la ordenada al origen para evitar confusiones\n",
        "grado_polinomio = 15\n",
        "polyfeats = PolynomialFeatures(degree = grado_polinomio, include_bias = True)"
      ],
      "execution_count": 29,
      "outputs": []
    },
    {
      "cell_type": "code",
      "metadata": {
        "id": "sbI7Kp8K-DYA"
      },
      "source": [
        "# definimos con cual variable trabajaremos. LA MISMA PARA COMPARAR\n",
        "var = 'bmi'\n",
        "X = np.array(df_x[var][:N]).reshape(-1,1)"
      ],
      "execution_count": 30,
      "outputs": []
    },
    {
      "cell_type": "code",
      "metadata": {
        "id": "8P67Zu62_C4b",
        "colab": {
          "base_uri": "https://localhost:8080/"
        },
        "outputId": "16d81f60-b223-448a-af19-bef965709669"
      },
      "source": [
        "X_poly = polyfeats.fit_transform(X)\n",
        "\n",
        "# Ver que tenemos columas x^0, x^1, x^2, x^3, x^4, x^5, ....etc\n",
        "print(X_poly)"
      ],
      "execution_count": 31,
      "outputs": [
        {
          "output_type": "stream",
          "name": "stdout",
          "text": [
            "[[ 1.00000000e+00  6.16962065e-02  3.80642190e-03  2.34841792e-04\n",
            "   1.44888477e-05  8.93906938e-07  5.51506671e-08  3.40258694e-09\n",
            "   2.09926707e-10  1.29516815e-11  7.99069614e-13  4.92995639e-14\n",
            "   3.04159608e-15  1.87654940e-16  1.15775979e-17  7.14293872e-19]\n",
            " [ 1.00000000e+00 -5.14740612e-02  2.64957898e-03 -1.36384591e-04\n",
            "   7.02026877e-06 -3.61361745e-07  1.86007566e-08 -9.57456483e-10\n",
            "   4.92841737e-11 -2.53685657e-12  1.30582311e-13 -6.72160185e-15\n",
            "   3.45988145e-16 -1.78094150e-17  9.16722917e-19 -4.71874516e-20]\n",
            " [ 1.00000000e+00  4.44512133e-02  1.97591037e-03  8.78316133e-05\n",
            "   3.90422178e-06  1.73547395e-07  7.71439229e-09  3.42914097e-10\n",
            "   1.52429477e-11  6.77567520e-13  3.01186984e-14  1.33881269e-15\n",
            "   5.95118484e-17  2.64537387e-18  1.17590078e-19  5.22702165e-21]\n",
            " [ 1.00000000e+00 -1.15950145e-02  1.34444361e-04 -1.55888432e-06\n",
            "   1.80752863e-08 -2.09583207e-10  2.43012032e-12 -2.81772804e-14\n",
            "   3.26715975e-16 -3.78827647e-18  4.39251206e-20 -5.09312411e-22\n",
            "   5.90548479e-24 -6.84741818e-26  7.93959131e-28 -9.20596764e-30]\n",
            " [ 1.00000000e+00 -3.63846922e-02  1.32384583e-03 -4.81677229e-05\n",
            "   1.75256777e-06 -6.37666390e-08  2.32012953e-09 -8.44171989e-11\n",
            "   3.07149380e-12 -1.11755357e-13  4.06618425e-15 -1.47946862e-16\n",
            "   5.38300105e-18 -1.95858836e-19  7.12626347e-21 -2.59286903e-22]\n",
            " [ 1.00000000e+00 -4.06959405e-02  1.65615957e-03 -6.73989714e-05\n",
            "   2.74286453e-06 -1.11623452e-07  4.54262135e-09 -1.84866248e-10\n",
            "   7.52330584e-12 -3.06168007e-13  1.24597950e-14 -5.07063076e-16\n",
            "   2.06354088e-17 -8.39777367e-19  3.41755297e-20 -1.39080533e-21]\n",
            " [ 1.00000000e+00 -4.71628129e-02  2.22433092e-03 -1.04905703e-04\n",
            "   4.94764806e-06 -2.33345000e-07  1.10052066e-08 -5.19036500e-10\n",
            "   2.44792214e-11 -1.15450894e-12  5.44498891e-14 -2.56800993e-15\n",
            "   1.21114572e-16 -5.71210391e-18  2.69398888e-19 -1.27056094e-20]\n",
            " [ 1.00000000e+00 -1.89470584e-03  3.58991022e-06 -6.80182386e-09\n",
            "   1.28874554e-11 -2.44179370e-14  4.62648079e-17 -8.76582016e-20\n",
            "   1.66086507e-22 -3.14685074e-25  5.96235648e-28 -1.12969116e-30\n",
            "   2.14043245e-33 -4.05548986e-36  7.68396031e-39 -1.45588445e-41]\n",
            " [ 1.00000000e+00  6.16962065e-02  3.80642190e-03  2.34841792e-04\n",
            "   1.44888477e-05  8.93906938e-07  5.51506671e-08  3.40258694e-09\n",
            "   2.09926707e-10  1.29516815e-11  7.99069614e-13  4.92995639e-14\n",
            "   3.04159608e-15  1.87654940e-16  1.15775979e-17  7.14293872e-19]\n",
            " [ 1.00000000e+00  3.90621530e-02  1.52585179e-03  5.96030562e-05\n",
            "   2.32822370e-06  9.09454303e-08  3.55252431e-09  1.38769248e-10\n",
            "   5.42062559e-12  2.11741306e-13  8.27107128e-15  3.23085852e-16\n",
            "   1.26204290e-17  4.92981127e-19  1.92569042e-20  7.52216137e-22]\n",
            " [ 1.00000000e+00 -8.38084235e-02  7.02385184e-03 -5.88657949e-04\n",
            "   4.93344947e-05 -4.13464622e-06  3.46518181e-07 -2.90411425e-08\n",
            "   2.43389237e-09 -2.03980682e-10  1.70952994e-11 -1.43273009e-12\n",
            "   1.20074850e-13 -1.00632839e-14  8.43387957e-16 -7.06830150e-17]\n",
            " [ 1.00000000e+00  1.75059115e-02  3.06456937e-04  5.36480802e-06\n",
            "   9.39158543e-08  1.64408263e-09  2.87811650e-11  5.03840528e-13\n",
            "   8.82018769e-15  1.54405425e-16  2.70300770e-18  4.73186136e-20\n",
            "   8.28355461e-22  1.45011174e-23  2.53855278e-25  4.44396802e-27]\n",
            " [ 1.00000000e+00 -2.88400077e-02  8.31746043e-04 -2.39875623e-05\n",
            "   6.91801481e-07 -1.99515600e-08  5.75403144e-10 -1.65946311e-11\n",
            "   4.78589289e-13 -1.38025188e-14  3.98064747e-16 -1.14801904e-17\n",
            "   3.31088779e-19 -9.54860292e-21  2.75381782e-22 -7.94201270e-24]\n",
            " [ 1.00000000e+00 -1.89470584e-03  3.58991022e-06 -6.80182386e-09\n",
            "   1.28874554e-11 -2.44179370e-14  4.62648079e-17 -8.76582016e-20\n",
            "   1.66086507e-22 -3.14685074e-25  5.96235648e-28 -1.12969116e-30\n",
            "   2.14043245e-33 -4.05548986e-36  7.68396031e-39 -1.45588445e-41]\n",
            " [ 1.00000000e+00 -2.56065715e-02  6.55696502e-04 -1.67901393e-05\n",
            "   4.29937903e-07 -1.10092356e-08  2.81908779e-10 -7.21871730e-12\n",
            "   1.84846600e-13 -4.73328768e-15  1.21203269e-16 -3.10360018e-18\n",
            "   7.94725598e-20 -2.03501978e-21  5.21098795e-23 -1.33435535e-24]\n",
            " [ 1.00000000e+00 -1.80618869e-02  3.26231760e-04 -5.89236117e-06\n",
            "   1.06427161e-07 -1.92227536e-09  3.47199202e-11 -6.27107273e-13\n",
            "   1.13267407e-14 -2.04582309e-16  3.69514254e-18 -6.67412469e-20\n",
            "   1.20547286e-21 -2.17731144e-23  3.93263532e-25 -7.10308145e-27]\n",
            " [ 1.00000000e+00  4.22955892e-02  1.78891686e-03  7.56632928e-05\n",
            "   3.20022355e-06  1.35355341e-07  5.72493388e-09  2.42139451e-10\n",
            "   1.02414308e-11  4.33167348e-13  1.83210682e-14  7.74900375e-16\n",
            "   3.27748679e-17  1.38623235e-18  5.86315140e-20  2.47985443e-21]\n",
            " [ 1.00000000e+00  1.21168511e-02  1.46818081e-04  1.77897283e-06\n",
            "   2.15555489e-08  2.61185377e-10  3.16474433e-12  3.83467359e-14\n",
            "   4.64641690e-16  5.62999418e-18  6.82178013e-20  8.26584942e-22\n",
            "   1.00156067e-23  1.21357615e-25  1.47047215e-27  1.78174922e-29]\n",
            " [ 1.00000000e+00 -1.05172024e-02  1.10611547e-04 -1.16332403e-06\n",
            "   1.22349143e-08 -1.28677071e-10  1.35332280e-12 -1.42331699e-14\n",
            "   1.49693129e-16 -1.57435294e-18  1.65577885e-20 -1.74141614e-22\n",
            "   1.83148260e-24 -1.92620733e-26  2.02583124e-28 -2.13060772e-30]\n",
            " [ 1.00000000e+00 -1.80618869e-02  3.26231760e-04 -5.89236117e-06\n",
            "   1.06427161e-07 -1.92227536e-09  3.47199202e-11 -6.27107273e-13\n",
            "   1.13267407e-14 -2.04582309e-16  3.69514254e-18 -6.67412469e-20\n",
            "   1.20547286e-21 -2.17731144e-23  3.93263532e-25 -7.10308145e-27]\n",
            " [ 1.00000000e+00 -5.68631216e-02  3.23341460e-03 -1.83862048e-04\n",
            "   1.04549700e-05 -5.94502229e-07  3.38052525e-08 -1.92227219e-09\n",
            "   1.09306397e-10 -6.21550295e-12  3.53432900e-13 -2.00972980e-14\n",
            "   1.14279510e-15 -6.49828967e-17  3.69513036e-18 -2.10116647e-19]\n",
            " [ 1.00000000e+00 -2.23731352e-02  5.00557181e-04 -1.11990335e-05\n",
            "   2.50557491e-07 -5.60575663e-09  1.25418351e-10 -2.80600174e-12\n",
            "   6.27790563e-14 -1.40456432e-15  3.14245074e-17 -7.03064755e-19\n",
            "   1.57297629e-20 -3.51924112e-22  7.87364575e-24 -1.76158141e-25]\n",
            " [ 1.00000000e+00 -4.05032999e-03  1.64051730e-05 -6.64463642e-08\n",
            "   2.69129702e-10 -1.09006410e-12  4.41511932e-15 -1.78826902e-17\n",
            "   7.24307963e-20 -2.93368626e-22  1.18823974e-24 -4.81276307e-27\n",
            "   1.94932786e-29 -7.89542108e-32  3.19790608e-34 -1.29525749e-36]\n",
            " [ 1.00000000e+00  6.06183944e-02  3.67458975e-03  2.22747731e-04\n",
            "   1.35026098e-05  8.18506527e-07  4.96165515e-08  3.00767569e-09\n",
            "   1.82320471e-10  1.10519742e-11  6.69952934e-13  4.06114712e-14\n",
            "   2.46180218e-15  1.49230496e-16  9.04611305e-18  5.48360849e-19]\n",
            " [ 1.00000000e+00  3.58287167e-02  1.28369694e-03  4.59932142e-05\n",
            "   1.64787784e-06  5.90413485e-08  2.11537575e-09  7.57911986e-11\n",
            "   2.71550139e-12  9.72929300e-14  3.48588083e-15  1.24894637e-16\n",
            "   4.47481457e-18  1.60326864e-19  5.74430578e-21  2.05811105e-22]\n",
            " [ 1.00000000e+00 -1.26728266e-02  1.60600534e-04 -2.03526271e-06\n",
            "   2.57925314e-08 -3.26864277e-10  4.14229430e-12 -5.24945773e-14\n",
            "   6.65254674e-16 -8.43065712e-18  1.06840256e-19 -1.35396803e-21\n",
            "   1.71586020e-23 -2.17447988e-25  2.75568064e-27 -3.49222629e-29]\n",
            " [ 1.00000000e+00 -7.73415510e-02  5.98171551e-03 -4.62635155e-04\n",
            "   3.57809205e-05 -2.76735189e-06  2.14031287e-07 -1.65535117e-08\n",
            "   1.28027427e-09 -9.90183978e-11  7.65823646e-12 -5.92299886e-13\n",
            "   4.58093919e-14 -3.54296942e-15  2.74018750e-16 -2.11930351e-17]\n",
            " [ 1.00000000e+00  5.95405824e-02  3.54508095e-03  2.11076184e-04\n",
            "   1.25675989e-05  7.48282160e-07  4.45531556e-08  2.65272083e-09\n",
            "   1.57944543e-10  9.40411007e-12  5.59926190e-13  3.33383315e-14\n",
            "   1.98498367e-15  1.18187084e-16  7.03692779e-18  4.18982779e-19]\n",
            " [ 1.00000000e+00 -2.12953232e-02  4.53490789e-04 -9.65723290e-06\n",
            "   2.05653896e-07 -4.37946617e-09  9.32621474e-11 -1.98604757e-12\n",
            "   4.22935248e-14 -9.00654278e-16  1.91797239e-17 -4.08438419e-19\n",
            "   8.69782813e-21 -1.85223061e-22  3.94438494e-24 -8.39969520e-26]\n",
            " [ 1.00000000e+00 -6.20595414e-03  3.85138667e-05 -2.39015291e-07\n",
            "   1.48331793e-09 -9.20540305e-12  5.71283091e-14 -3.54535666e-16\n",
            "   2.20023208e-18 -1.36545394e-20  8.47394453e-23 -5.25889111e-25\n",
            "   3.26364370e-27 -2.02540231e-29  1.25695539e-31 -7.80060748e-34]\n",
            " [ 1.00000000e+00  4.44512133e-02  1.97591037e-03  8.78316133e-05\n",
            "   3.90422178e-06  1.73547395e-07  7.71439229e-09  3.42914097e-10\n",
            "   1.52429477e-11  6.77567520e-13  3.01186984e-14  1.33881269e-15\n",
            "   5.95118484e-17  2.64537387e-18  1.17590078e-19  5.22702165e-21]\n",
            " [ 1.00000000e+00 -6.54856182e-02  4.28836619e-03 -2.80826311e-04\n",
            "   1.83900846e-05 -1.20428606e-06  7.88634170e-08 -5.16441962e-09\n",
            "   3.38195211e-10 -2.21469225e-11  1.45030491e-12 -9.49741136e-14\n",
            "   6.21943854e-15 -4.07283778e-16  2.66712300e-17 -1.74658198e-18]\n",
            " [ 1.00000000e+00  1.25287119e-01  1.56968622e-02  1.96661464e-03\n",
            "   2.46391482e-04  3.08696788e-05  3.86757312e-06  4.84557094e-07\n",
            "   6.07087622e-08  7.60602591e-09  9.52937072e-10  1.19390740e-10\n",
            "   1.49581219e-11  1.87405999e-12  2.34795577e-13  2.94168614e-14]\n",
            " [ 1.00000000e+00 -5.03962492e-02  2.53978193e-03 -1.27995483e-04\n",
            "   6.45049225e-06 -3.25080615e-07  1.63828437e-08 -8.25633871e-10\n",
            "   4.16088503e-11 -2.09692999e-12  1.05677406e-13 -5.32574489e-15\n",
            "   2.68397566e-16 -1.35262306e-17  6.81671289e-19 -3.43536761e-20]\n",
            " [ 1.00000000e+00 -6.33299941e-02  4.01068815e-03 -2.53996856e-04\n",
            "   1.60856194e-05 -1.01870218e-06  6.45144031e-08 -4.08569676e-09\n",
            "   2.58747152e-10 -1.63864556e-11  1.03775413e-12 -6.57209632e-14\n",
            "   4.16210821e-15 -2.63586288e-16  1.66929180e-17 -1.05716240e-18]\n",
            " [ 1.00000000e+00 -3.09956318e-02  9.60729193e-04 -2.97784084e-05\n",
            "   9.23000582e-07 -2.86089862e-08  8.86753604e-10 -2.74854882e-11\n",
            "   8.51930074e-13 -2.64061109e-14  8.18474093e-16 -2.53691216e-17\n",
            "   7.86331954e-19 -2.43728558e-20  7.55452064e-22 -2.34157140e-23]\n",
            " [ 1.00000000e+00  2.28949719e-02  5.24179736e-04  1.20010803e-05\n",
            "   2.74764396e-07  6.29072312e-09  1.44025929e-10  3.29746958e-12\n",
            "   7.54954734e-14  1.72846674e-15  3.95731973e-17  9.06027239e-19\n",
            "   2.07434681e-20  4.74921119e-22  1.08733057e-23  2.48944027e-25]\n",
            " [ 1.00000000e+00  1.10390390e-02  1.21860383e-04  1.34522153e-06\n",
            "   1.48499530e-08  1.63929211e-10  1.80962096e-12  1.99764764e-14\n",
            "   2.20521103e-16  2.43434107e-18  2.68727861e-20  2.96649735e-22\n",
            "   3.27472801e-24  3.61498503e-26  3.99059609e-28  4.40523461e-30]\n",
            " [ 1.00000000e+00  7.13965152e-02  5.09746238e-03  3.63941050e-04\n",
            "   2.59841227e-05  1.85517581e-06  1.32453088e-07  9.45668891e-09\n",
            "   6.75174633e-10  4.82051160e-11  3.44167729e-12  2.45723765e-13\n",
            "   1.75438205e-14  1.25256765e-15  8.94289652e-17  6.38491647e-18]\n",
            " [ 1.00000000e+00  1.42724753e-02  2.03703550e-04  2.90735388e-06\n",
            "   4.14951364e-08  5.92238308e-10  8.45270660e-12  1.20641046e-13\n",
            "   1.72184634e-15  2.45750094e-17  3.50746213e-19  5.00601666e-21\n",
            "   7.14482489e-23  1.01974337e-24  1.45542620e-26  2.07725344e-28]\n",
            " [ 1.00000000e+00 -8.36157828e-03  6.99159914e-05 -5.84608035e-07\n",
            "   4.88824585e-09 -4.08734504e-11  3.41766555e-13 -2.85770780e-15\n",
            "   2.38949475e-17 -1.99799474e-19  1.67063894e-21 -1.39691783e-23\n",
            "   1.16804378e-25 -9.76668951e-28  8.16649389e-30 -6.82847780e-32]\n",
            " [ 1.00000000e+00 -6.76412423e-02  4.57533767e-03 -3.09481524e-04\n",
            "   2.09337148e-05 -1.41598247e-06  9.57788136e-08 -6.47859794e-09\n",
            "   4.38220414e-10 -2.96417732e-11  2.00500636e-12 -1.35621121e-13\n",
            "   9.17358114e-15 -6.20512425e-16  4.19722313e-17 -2.83905387e-18]\n",
            " [ 1.00000000e+00 -1.05172024e-02  1.10611547e-04 -1.16332403e-06\n",
            "   1.22349143e-08 -1.28677071e-10  1.35332280e-12 -1.42331699e-14\n",
            "   1.49693129e-16 -1.57435294e-18  1.65577885e-20 -1.74141614e-22\n",
            "   1.83148260e-24 -1.92620733e-26  2.02583124e-28 -2.13060772e-30]\n",
            " [ 1.00000000e+00 -2.34509473e-02  5.49946930e-04 -1.28967765e-05\n",
            "   3.02441626e-07 -7.09254264e-09  1.66326844e-10 -3.90052205e-12\n",
            "   9.14709371e-14 -2.14508013e-15  5.03041611e-17 -1.17968023e-18\n",
            "   2.76646189e-20 -6.48761521e-22  1.52140723e-23 -3.56784407e-25]\n",
            " [ 1.00000000e+00  6.81630790e-02  4.64620533e-03  3.16699661e-04\n",
            "   2.15872240e-05  1.47145165e-06  1.00298675e-07  6.83666652e-09\n",
            "   4.66008240e-10  3.17645565e-11  2.16516997e-12  1.47584652e-13\n",
            "   1.00598243e-14  6.85708596e-16  4.67400092e-17  3.18594293e-18]\n",
            " [ 1.00000000e+00 -3.53068801e-02  1.24657578e-03 -4.40127018e-05\n",
            "   1.55395119e-06 -5.48651683e-08  1.93711792e-09 -6.83935902e-11\n",
            "   2.41476429e-12 -8.52577933e-14  3.01018669e-15 -1.06280301e-16\n",
            "   3.75242583e-18 -1.32486449e-19  4.67768318e-21 -1.65154399e-22]\n",
            " [ 1.00000000e+00 -1.15950145e-02  1.34444361e-04 -1.55888432e-06\n",
            "   1.80752863e-08 -2.09583207e-10  2.43012032e-12 -2.81772804e-14\n",
            "   3.26715975e-16 -3.78827647e-18  4.39251206e-20 -5.09312411e-22\n",
            "   5.90548479e-24 -6.84741818e-26  7.93959131e-28 -9.20596764e-30]\n",
            " [ 1.00000000e+00 -7.30303027e-02  5.33342511e-03 -3.89501651e-04\n",
            "   2.84454235e-05 -2.07737789e-06  1.51711536e-07 -1.10795394e-08\n",
            "   8.09142116e-10 -5.90918936e-11  4.31549888e-12 -3.15162190e-13\n",
            "   2.30163901e-14 -1.68089394e-15  1.22756193e-16 -8.96492194e-18]\n",
            " [ 1.00000000e+00 -4.17737526e-02  1.74504640e-03 -7.28971367e-05\n",
            "   3.04518695e-06 -1.27208886e-07  5.31399254e-09 -2.21985410e-10\n",
            "   9.27316358e-12 -3.87374841e-13  1.61821008e-14 -6.75987073e-16\n",
            "   2.82385167e-17 -1.17962881e-18  4.92775221e-20 -2.05850701e-21]\n",
            " [ 1.00000000e+00  1.42724753e-02  2.03703550e-04  2.90735388e-06\n",
            "   4.14951364e-08  5.92238308e-10  8.45270660e-12  1.20641046e-13\n",
            "   1.72184634e-15  2.45750094e-17  3.50746213e-19  5.00601666e-21\n",
            "   7.14482489e-23  1.01974337e-24  1.45542620e-26  2.07725344e-28]]\n"
          ]
        }
      ]
    },
    {
      "cell_type": "markdown",
      "metadata": {
        "id": "OirhFBb7_NDz"
      },
      "source": [
        "Esta última variable tiene toda la información de x \"y\" sus potencias a incluir en el ajuste. Lo que queda es hacer una regresión múltiple de y con respecto a esta matriz de potencias de x."
      ]
    },
    {
      "cell_type": "code",
      "metadata": {
        "colab": {
          "base_uri": "https://localhost:8080/"
        },
        "id": "XoylI7Hd_Ooi",
        "outputId": "95a49617-c319-4fcd-ce8a-625efe6c3403"
      },
      "source": [
        "## Creación y ajuste del modelo\n",
        "\n",
        "# Creación del modelo lineal, idéntico al caso de una sola variable\n",
        "# Al poner fit_intercept = False, todos los coeficientes del modelo están en el atributo \".coef_\"\n",
        "# Esto último es deseable si antes ponemos PolynomialFeatures(include_bias = True)\n",
        "\n",
        "reg_poly = linear_model.LinearRegression(fit_intercept = False)\n",
        "\n",
        "# Ajuste del modelo con los términos polinómicos\n",
        "reg_poly.fit(X_poly, df_y[:N])\n",
        "\n",
        "# Coeficientes del modelo, el orden corresponde a las columnas de X_poly\n",
        "print('Coeficientes = {}'.format(reg_poly.coef_[0]))"
      ],
      "execution_count": 32,
      "outputs": [
        {
          "output_type": "stream",
          "name": "stdout",
          "text": [
            "Coeficientes = [ 1.33039368e+02 -1.44724379e+03  1.07710414e+05  9.50031832e+06\n",
            " -8.17494584e+07 -8.35183448e+09  8.12991406e+09  2.74163474e+12\n",
            "  3.42461511e+12 -3.68917643e+14 -5.19070804e+14  1.66034107e+16\n",
            "  5.13722784e+14  4.30248372e+14  2.03834257e+13  7.53055945e+12]\n"
          ]
        }
      ]
    },
    {
      "cell_type": "code",
      "metadata": {
        "id": "hKbNg5yF_cMw",
        "colab": {
          "base_uri": "https://localhost:8080/"
        },
        "outputId": "c3ed4795-595e-4ecf-fcf0-ee27ad4b197e"
      },
      "source": [
        "l_ordenada = list(df_x[var][:N])\n",
        "l_ordenada.sort() # se ordenada para dibujar bien la curva\n",
        "l_ordenada"
      ],
      "execution_count": 33,
      "outputs": [
        {
          "output_type": "execute_result",
          "data": {
            "text/plain": [
              "[-0.08380842345522464,\n",
              " -0.07734155101193986,\n",
              " -0.07303030271641665,\n",
              " -0.06764124234701265,\n",
              " -0.06548561819925106,\n",
              " -0.06332999405148947,\n",
              " -0.05686312160820465,\n",
              " -0.051474061238800654,\n",
              " -0.050396249164919873,\n",
              " -0.047162812943277475,\n",
              " -0.041773752573873474,\n",
              " -0.040695940499992665,\n",
              " -0.03638469220446948,\n",
              " -0.035306880130588664,\n",
              " -0.03099563183506548,\n",
              " -0.028840007687303888,\n",
              " -0.02560657146566148,\n",
              " -0.023450947317899894,\n",
              " -0.022373135244019075,\n",
              " -0.0212953231701383,\n",
              " -0.018061886948495892,\n",
              " -0.018061886948495892,\n",
              " -0.012672826579091896,\n",
              " -0.011595014505211082,\n",
              " -0.011595014505211082,\n",
              " -0.010517202431330305,\n",
              " -0.010517202431330305,\n",
              " -0.008361578283568675,\n",
              " -0.006205954135807083,\n",
              " -0.004050329988045492,\n",
              " -0.0018947058402839008,\n",
              " -0.0018947058402839008,\n",
              " 0.011039039046285686,\n",
              " 0.012116851120166501,\n",
              " 0.014272475267928093,\n",
              " 0.014272475267928093,\n",
              " 0.0175059114895705,\n",
              " 0.022894971858974496,\n",
              " 0.03582871674554409,\n",
              " 0.039062152967186486,\n",
              " 0.0422955891888289,\n",
              " 0.04445121333659049,\n",
              " 0.04445121333659049,\n",
              " 0.05954058237092167,\n",
              " 0.06061839444480248,\n",
              " 0.061696206518683294,\n",
              " 0.061696206518683294,\n",
              " 0.0681630789619681,\n",
              " 0.07139651518361048,\n",
              " 0.12528711887765046]"
            ]
          },
          "metadata": {},
          "execution_count": 33
        }
      ]
    },
    {
      "cell_type": "code",
      "metadata": {
        "colab": {
          "base_uri": "https://localhost:8080/",
          "height": 368
        },
        "id": "0I0h-1C6_j53",
        "outputId": "216e03b3-352b-48e0-c3f8-7cb55f65c29d"
      },
      "source": [
        "fig, ax = plt.subplots(1, 1, figsize = (6, 4))\n",
        "plt.scatter(X, df_y[:N])\n",
        "\n",
        "# Relacion estimada\n",
        "# (usamos np.flip que invierte el orden de los coeficientes, ya que polyval los toma en orden diferente a lo que devuelve reg.coef_)\n",
        "y_estimado = np.polyval(np.flip(reg_poly.coef_[0]), l_ordenada)\n",
        "\n",
        "ax.plot(l_ordenada, y_estimado, color = 'red', linewidth = 3)\n",
        "\n",
        "#plt.xticks(())\n",
        "#plt.yticks(())\n",
        "#ax.set_ylim([0, 350])\n",
        "#ax.set_xlim([-0.12, 0.01])\n",
        "plt.show()"
      ],
      "execution_count": 34,
      "outputs": [
        {
          "output_type": "display_data",
          "data": {
            "text/plain": [
              "<Figure size 600x400 with 1 Axes>"
            ],
            "image/png": "[encoded data removed]"
          },
          "metadata": {}
        }
      ]
    },
    {
      "cell_type": "code",
      "metadata": {
        "colab": {
          "base_uri": "https://localhost:8080/"
        },
        "id": "528gd1qe_rMS",
        "outputId": "55970695-740f-4d84-f9f4-97f5fc5ca69a"
      },
      "source": [
        "# Calidad del ajuste\n",
        "print('Calidad de ajuste R^2 = {:.3f}'.format(reg_poly.score(X_poly, df_y[:N])))"
      ],
      "execution_count": 35,
      "outputs": [
        {
          "output_type": "stream",
          "name": "stdout",
          "text": [
            "Calidad de ajuste R^2 = 0.482\n"
          ]
        }
      ]
    },
    {
      "cell_type": "code",
      "metadata": {
        "colab": {
          "base_uri": "https://localhost:8080/"
        },
        "id": "tmgaEwbX_u9J",
        "outputId": "cd8f435b-708f-4ea7-ec28-eea451cc2bf9"
      },
      "source": [
        "# mean squared error\n",
        "print('Mean squared error: %.2f'\n",
        "      % mean_squared_error(df_y[:N], y_estimado))"
      ],
      "execution_count": 36,
      "outputs": [
        {
          "output_type": "stream",
          "name": "stdout",
          "text": [
            "Mean squared error: 8006.20\n"
          ]
        }
      ]
    },
    {
      "cell_type": "code",
      "metadata": {
        "colab": {
          "base_uri": "https://localhost:8080/"
        },
        "id": "-cg_efla_y-w",
        "outputId": "23f4bd9a-e840-4bb4-aae2-429eb5834e74"
      },
      "source": [
        "# mean squared error\n",
        "print('Mean squared error: %.2f'\n",
        "      % mean_absolute_error(df_y[:N], y_estimado))"
      ],
      "execution_count": 37,
      "outputs": [
        {
          "output_type": "stream",
          "name": "stdout",
          "text": [
            "Mean squared error: 73.45\n"
          ]
        }
      ]
    },
    {
      "cell_type": "markdown",
      "metadata": {
        "id": "ESmRQT3EuWzh"
      },
      "source": [
        "##Predecir valores nuevos"
      ]
    },
    {
      "cell_type": "code",
      "metadata": {
        "colab": {
          "base_uri": "https://localhost:8080/",
          "height": 400
        },
        "id": "e4drCOUTuVby",
        "outputId": "9c8d9bd9-3f98-4f94-e3c0-9b7828c80cae"
      },
      "source": [
        "# graficar los puntos azules\n",
        "fig, ax = plt.subplots(1, 1, figsize = (6, 4))\n",
        "plt.scatter(X, df_y[:N])\n",
        "\n",
        "valores_nuevos = np.array([-0.11,-0.10, -0.09,-0.08, 0.13, 0.14, 0.15]) # puede probar otros valores y más si quiere.\n",
        "X_nuevo = valores_nuevos.reshape(-1, 1)\n",
        "\n",
        "y_estimado = np.polyval(np.flip(reg_poly.coef_[0]), X_nuevo) # realiza la predicción\n",
        "\n",
        "plt.scatter(X_nuevo, y_estimado, color = 'red', linewidth = 2)\n"
      ],
      "execution_count": 38,
      "outputs": [
        {
          "output_type": "execute_result",
          "data": {
            "text/plain": [
              "<matplotlib.collections.PathCollection at 0x7feebf3d0b20>"
            ]
          },
          "metadata": {},
          "execution_count": 38
        },
        {
          "output_type": "display_data",
          "data": {
            "text/plain": [
              "<Figure size 600x400 with 1 Axes>"
            ],
            "image/png": "[encoded data removed]"
          },
          "metadata": {}
        }
      ]
    },
    {
      "cell_type": "markdown",
      "metadata": {
        "id": "XQ-6HKi3soXM"
      },
      "source": [
        "##Recomendamos cambiar la variable a estudiar.\n",
        "\n",
        "## También recomendamos cambiar el grado del polinomio. Vea como cambia la curva y las métricas de rendimiento."
      ]
    },
    {
      "cell_type": "markdown",
      "source": [
        "**Bibliografía**\n",
        "\n",
        "Introduction to Machine Learning with Python: A Guide for Data Scientists libro\n",
        "\n",
        "Python Data Science Handbook by Jake VanderPlas libro\n",
        "\n",
        "Linear Models with R by Julian J.Faraway libro\n",
        "\n",
        "An Introduction to Statistical Learning: with Applications in R (Springer Texts in Statistics) libro\n",
        "\n",
        "OpenIntro Statistics: Fourth Edition by David Diez, Mine Çetinkaya-Rundel, Christopher Barr libro\n",
        "\n",
        "Points of Significance Principal component analysis by Jake Lever, Martin Krzywinski & Naomi Altman"
      ],
      "metadata": {
        "id": "m1AuprU5Nr0m"
      }
    }
  ]
}